{
  "nbformat": 4,
  "nbformat_minor": 0,
  "metadata": {
    "colab": {
      "provenance": []
    },
    "kernelspec": {
      "name": "python3",
      "display_name": "Python 3"
    },
    "language_info": {
      "name": "python"
    }
  },
  "cells": [
    {
      "cell_type": "code",
      "execution_count": 4,
      "metadata": {
        "id": "6tjuryIwPCql"
      },
      "outputs": [],
      "source": [
        "import numpy as np\n",
        "import math\n",
        "\n",
        "L, d_k, d_v = 4, 8, 8\n",
        "\n",
        "q = np.random.randn(L, d_k)\n",
        "k = np.random.randn(L, d_k)\n",
        "v = np.random.randn(L, d_v)"
      ]
    },
    {
      "cell_type": "code",
      "source": [
        "print(\"Q: \",q)\n",
        "print(\"\\nK: \",k)\n",
        "print(\"\\nV: \",v)"
      ],
      "metadata": {
        "colab": {
          "base_uri": "https://localhost:8080/"
        },
        "id": "qm5c9Es6PZqr",
        "outputId": "14802b3b-262e-4af6-948d-5be48f8e4842"
      },
      "execution_count": 7,
      "outputs": [
        {
          "output_type": "stream",
          "name": "stdout",
          "text": [
            "Q:  [[ 0.98205942 -0.50755003  0.47323046  0.10986494  0.0447011  -0.04533553\n",
            "   1.28116101 -0.1757931 ]\n",
            " [ 0.14364862 -0.76884773  0.26990682  2.33779622  0.99162073 -0.20263487\n",
            "  -1.25577631 -0.02678597]\n",
            " [ 0.13779342  1.84631505  0.25225605  0.01757992  0.93741477  0.16007054\n",
            "   0.48772065 -0.21236113]\n",
            " [ 0.10697245 -1.84942673  0.5812828  -0.32358033  0.68510351  0.80408038\n",
            "  -3.05743139  1.46230043]]\n",
            "\n",
            "K:  [[ 0.47533767 -1.43451379 -0.28773468  0.91437225 -1.37915891  0.72313008\n",
            "  -1.87916793  0.3201954 ]\n",
            " [-1.95823135  0.80544231 -0.81318788  0.18794265 -1.57861441 -1.60963002\n",
            "  -1.49455126 -0.64197819]\n",
            " [-0.04249592 -0.01675876 -1.0202719   1.36645528  2.06222298  0.16856864\n",
            "  -0.96584488  0.64269616]\n",
            " [ 0.09575021  0.81083233 -0.24131169 -2.11070173 -0.54358969  0.4815727\n",
            "   1.32580471 -1.04449218]]\n",
            "\n",
            "V:  [[-1.41227385 -0.10021945  0.67363302 -0.47450307 -0.26607726  0.21561015\n",
            "   0.56622529  0.56259403]\n",
            " [-0.63489962 -0.50304537 -0.70390156 -0.7501038   1.2129899  -0.44650598\n",
            "  -1.43707501  1.52783928]\n",
            " [-0.14639803  1.18173425 -0.82448491 -0.11864046 -0.46051467 -0.04714535\n",
            "  -0.95341298 -1.42592517]\n",
            " [ 0.05252244 -0.36711712  0.80921731  0.24539782  0.13967217  0.1321382\n",
            "   0.18603474  1.53206632]]\n"
          ]
        }
      ]
    },
    {
      "cell_type": "markdown",
      "source": [
        "#Self Attention\n",
        "\n",
        "$$\n",
        "\\text{Self Attention}(Q, K, V) = \\text{softmax}\\left(\\frac{QK^T}{\\sqrt{d_k}}\\right)V\n",
        "$$\n",
        "\n",
        "$$\n",
        "\\text{New V} = \\text{self attention}. \\text{V}\n",
        "$$"
      ],
      "metadata": {
        "id": "_I2LE4MibsSp"
      }
    },
    {
      "cell_type": "code",
      "source": [
        "q.var()"
      ],
      "metadata": {
        "colab": {
          "base_uri": "https://localhost:8080/"
        },
        "id": "24p8-2dNPb7M",
        "outputId": "441ed866-51be-4f9b-e076-13ad26107658"
      },
      "execution_count": 12,
      "outputs": [
        {
          "output_type": "execute_result",
          "data": {
            "text/plain": [
              "np.float64(1.372748955520124)"
            ]
          },
          "metadata": {},
          "execution_count": 12
        }
      ]
    },
    {
      "cell_type": "code",
      "source": [
        "k.var()"
      ],
      "metadata": {
        "colab": {
          "base_uri": "https://localhost:8080/"
        },
        "id": "AHoal-shP5nc",
        "outputId": "fc423cbb-595d-4829-bf43-8c34d87ccacc"
      },
      "execution_count": 13,
      "outputs": [
        {
          "output_type": "execute_result",
          "data": {
            "text/plain": [
              "np.float64(0.959591576712673)"
            ]
          },
          "metadata": {},
          "execution_count": 13
        }
      ]
    },
    {
      "cell_type": "code",
      "source": [
        "np.matmul(q,k.T).var()"
      ],
      "metadata": {
        "colab": {
          "base_uri": "https://localhost:8080/"
        },
        "id": "xqM9PPvaP7pF",
        "outputId": "7dab2618-d5ee-4741-ea30-402e726b9442"
      },
      "execution_count": 15,
      "outputs": [
        {
          "output_type": "execute_result",
          "data": {
            "text/plain": [
              "np.float64(11.624958798722634)"
            ]
          },
          "metadata": {},
          "execution_count": 15
        }
      ]
    },
    {
      "cell_type": "code",
      "source": [
        "# Q.K^T is of high order\n",
        "#Hence it is divided with sqrt(d_k)\n",
        "scaled = np.matmul(q,k.T)/math.sqrt(d_k)\n",
        "scaled"
      ],
      "metadata": {
        "colab": {
          "base_uri": "https://localhost:8080/"
        },
        "id": "XJI50-pVQBCG",
        "outputId": "7192bd53-3c8e-4ba1-e889-b6cd96eb83bd"
      },
      "execution_count": 9,
      "outputs": [
        {
          "output_type": "execute_result",
          "data": {
            "text/plain": [
              "array([[-0.49463825, -1.58942635, -0.57691735,  0.41452674],\n",
              "       [ 1.43834804, -0.00914805,  2.16811354, -2.78696558],\n",
              "       [-1.69747078, -0.46478899,  0.38270379,  0.65344299],\n",
              "       [ 2.86059521, -0.34565262,  1.56709779, -2.30259829]])"
            ]
          },
          "metadata": {},
          "execution_count": 9
        }
      ]
    },
    {
      "cell_type": "code",
      "source": [
        "scaled.var()"
      ],
      "metadata": {
        "colab": {
          "base_uri": "https://localhost:8080/"
        },
        "id": "WVIp1Jrwj3C2",
        "outputId": "04474b81-0b54-4ef6-e66f-31a709f4b046"
      },
      "execution_count": 10,
      "outputs": [
        {
          "output_type": "execute_result",
          "data": {
            "text/plain": [
              "np.float64(2.3440784950138314)"
            ]
          },
          "metadata": {},
          "execution_count": 10
        }
      ]
    },
    {
      "cell_type": "markdown",
      "source": [
        "the variance is now reduced"
      ],
      "metadata": {
        "id": "GmgTYZckjsXt"
      }
    },
    {
      "cell_type": "markdown",
      "source": [
        "#Masking\n",
        "\n",
        "\n",
        "\n",
        "*   This is to ensure that wwords don't get context from the words generated in the future.\n",
        "*   Not required in encoder, but required in the decoders\n",
        "\n"
      ],
      "metadata": {
        "id": "Do20qp7Sj5ph"
      }
    },
    {
      "cell_type": "code",
      "source": [
        "mask = np.tril(np.ones((L,L)))\n",
        "mask"
      ],
      "metadata": {
        "colab": {
          "base_uri": "https://localhost:8080/"
        },
        "id": "b5P8oymqQQJe",
        "outputId": "2b0b71e2-c09c-4096-cbbd-0e070360048e"
      },
      "execution_count": 11,
      "outputs": [
        {
          "output_type": "execute_result",
          "data": {
            "text/plain": [
              "array([[1., 0., 0., 0.],\n",
              "       [1., 1., 0., 0.],\n",
              "       [1., 1., 1., 0.],\n",
              "       [1., 1., 1., 1.]])"
            ]
          },
          "metadata": {},
          "execution_count": 11
        }
      ]
    },
    {
      "cell_type": "code",
      "source": [
        "mask[mask == 0] = -np.inf\n",
        "mask[mask == 1] = 0"
      ],
      "metadata": {
        "id": "8ZgqaJgIQgmj"
      },
      "execution_count": 13,
      "outputs": []
    },
    {
      "cell_type": "code",
      "source": [
        "mask"
      ],
      "metadata": {
        "colab": {
          "base_uri": "https://localhost:8080/"
        },
        "id": "7KbKzpmYkP3w",
        "outputId": "15432a05-3796-4cce-a176-2dfba71d0a35"
      },
      "execution_count": 14,
      "outputs": [
        {
          "output_type": "execute_result",
          "data": {
            "text/plain": [
              "array([[  0., -inf, -inf, -inf],\n",
              "       [  0.,   0., -inf, -inf],\n",
              "       [  0.,   0.,   0., -inf],\n",
              "       [  0.,   0.,   0.,   0.]])"
            ]
          },
          "metadata": {},
          "execution_count": 14
        }
      ]
    },
    {
      "cell_type": "code",
      "source": [
        "scaled+mask"
      ],
      "metadata": {
        "colab": {
          "base_uri": "https://localhost:8080/"
        },
        "id": "afpoqLvfQ2Kq",
        "outputId": "a40642b7-775d-4eb0-b90d-20a91803eea1"
      },
      "execution_count": 15,
      "outputs": [
        {
          "output_type": "execute_result",
          "data": {
            "text/plain": [
              "array([[-0.49463825,        -inf,        -inf,        -inf],\n",
              "       [ 1.43834804, -0.00914805,        -inf,        -inf],\n",
              "       [-1.69747078, -0.46478899,  0.38270379,        -inf],\n",
              "       [ 2.86059521, -0.34565262,  1.56709779, -2.30259829]])"
            ]
          },
          "metadata": {},
          "execution_count": 15
        }
      ]
    },
    {
      "cell_type": "markdown",
      "source": [
        "#Softmax\n",
        "\n",
        "$$\n",
        "\\text{softmax}(x_i) = \\frac{e^{x_i}}{\\sum_{j=1}^{n} e^{x_j}}\n",
        "$$\n"
      ],
      "metadata": {
        "id": "oCTmO314kWED"
      }
    },
    {
      "cell_type": "code",
      "source": [
        "def softmax(x):\n",
        "  exp_x = np.exp(x)\n",
        "  return exp_x / np.sum(exp_x, axis=-1, keepdims=True)"
      ],
      "metadata": {
        "id": "hRWPQxl5RLwJ"
      },
      "execution_count": 16,
      "outputs": []
    },
    {
      "cell_type": "code",
      "source": [
        "attention = softmax(scaled+mask)"
      ],
      "metadata": {
        "id": "6XrJgxt3Rpi9"
      },
      "execution_count": 17,
      "outputs": []
    },
    {
      "cell_type": "code",
      "source": [
        "attention"
      ],
      "metadata": {
        "colab": {
          "base_uri": "https://localhost:8080/"
        },
        "id": "1sYk_yuVR3cp",
        "outputId": "18119527-801d-4ab3-847e-52c4f5e30117"
      },
      "execution_count": 18,
      "outputs": [
        {
          "output_type": "execute_result",
          "data": {
            "text/plain": [
              "array([[1.        , 0.        , 0.        , 0.        ],\n",
              "       [0.80961278, 0.19038722, 0.        , 0.        ],\n",
              "       [0.08040988, 0.2758394 , 0.64375073, 0.        ],\n",
              "       [0.75726514, 0.03067554, 0.20772519, 0.00433413]])"
            ]
          },
          "metadata": {},
          "execution_count": 18
        }
      ]
    },
    {
      "cell_type": "code",
      "source": [
        "new_v = np.matmul(attention, v)\n",
        "new_v"
      ],
      "metadata": {
        "colab": {
          "base_uri": "https://localhost:8080/"
        },
        "id": "VPaGnhxMR4kY",
        "outputId": "e9005c2d-2654-404b-d046-869f0e5a4fc6"
      },
      "execution_count": 19,
      "outputs": [
        {
          "output_type": "execute_result",
          "data": {
            "text/plain": [
              "array([[-1.41227385, -0.10021945,  0.67363302, -0.47450307, -0.26607726,\n",
              "         0.21561015,  0.56622529,  0.56259403],\n",
              "       [-1.26427173, -0.17691236,  0.41136804, -0.52697393,  0.01551823,\n",
              "         0.0895517 ,  0.18482251,  0.74636439],\n",
              "       [-0.38293493,  0.61392392, -0.67075979, -0.32143779,  0.01673851,\n",
              "        -0.13617661, -0.9646321 , -0.45126398],\n",
              "       [-1.11912456,  0.15256096,  0.3207672 , -0.4059155 , -0.25933705,\n",
              "         0.14035667,  0.18745802,  0.18333973]])"
            ]
          },
          "metadata": {},
          "execution_count": 19
        }
      ]
    },
    {
      "cell_type": "markdown",
      "source": [
        "#Function"
      ],
      "metadata": {
        "id": "fA3AekG5koQZ"
      }
    },
    {
      "cell_type": "code",
      "source": [
        "def softmax(x):\n",
        "  exp_x = np.exp(x)\n",
        "  return exp_x / np.sum(exp_x, axis=-1, keepdims=True)\n",
        "\n",
        "def scaled_dot_product_attention(q,k,v,mask=None):\n",
        "  d_k = q.shape[-1]\n",
        "  scaled = np.matmul(q,k.T)/math.sqrt(d_k)\n",
        "  if mask is not None:\n",
        "    scaled = scaled+mask\n",
        "  attention = softmax(scaled)\n",
        "  out = np.matmul(attention, v)\n",
        "  return out,attention"
      ],
      "metadata": {
        "id": "dRa8YhGKSNXv"
      },
      "execution_count": 20,
      "outputs": []
    },
    {
      "cell_type": "code",
      "source": [
        "values, attention = scaled_dot_product_attention(q,k,v,mask=mask)\n",
        "print(\"Q: \\n\",q)\n",
        "print(\"\\nK: \\n\",k)\n",
        "print(\"\\nV: \\n\",v)\n",
        "print(\"\\nNew V: \\n\",values)\n",
        "print(\"\\nAttention: \\n\",attention)"
      ],
      "metadata": {
        "colab": {
          "base_uri": "https://localhost:8080/"
        },
        "id": "YVbbw_F3nXag",
        "outputId": "22666408-3cc3-413d-8a4d-ef38e6ff7019"
      },
      "execution_count": 23,
      "outputs": [
        {
          "output_type": "stream",
          "name": "stdout",
          "text": [
            "Q: \n",
            " [[ 0.98205942 -0.50755003  0.47323046  0.10986494  0.0447011  -0.04533553\n",
            "   1.28116101 -0.1757931 ]\n",
            " [ 0.14364862 -0.76884773  0.26990682  2.33779622  0.99162073 -0.20263487\n",
            "  -1.25577631 -0.02678597]\n",
            " [ 0.13779342  1.84631505  0.25225605  0.01757992  0.93741477  0.16007054\n",
            "   0.48772065 -0.21236113]\n",
            " [ 0.10697245 -1.84942673  0.5812828  -0.32358033  0.68510351  0.80408038\n",
            "  -3.05743139  1.46230043]]\n",
            "\n",
            "K: \n",
            " [[ 0.47533767 -1.43451379 -0.28773468  0.91437225 -1.37915891  0.72313008\n",
            "  -1.87916793  0.3201954 ]\n",
            " [-1.95823135  0.80544231 -0.81318788  0.18794265 -1.57861441 -1.60963002\n",
            "  -1.49455126 -0.64197819]\n",
            " [-0.04249592 -0.01675876 -1.0202719   1.36645528  2.06222298  0.16856864\n",
            "  -0.96584488  0.64269616]\n",
            " [ 0.09575021  0.81083233 -0.24131169 -2.11070173 -0.54358969  0.4815727\n",
            "   1.32580471 -1.04449218]]\n",
            "\n",
            "V: \n",
            " [[-1.41227385 -0.10021945  0.67363302 -0.47450307 -0.26607726  0.21561015\n",
            "   0.56622529  0.56259403]\n",
            " [-0.63489962 -0.50304537 -0.70390156 -0.7501038   1.2129899  -0.44650598\n",
            "  -1.43707501  1.52783928]\n",
            " [-0.14639803  1.18173425 -0.82448491 -0.11864046 -0.46051467 -0.04714535\n",
            "  -0.95341298 -1.42592517]\n",
            " [ 0.05252244 -0.36711712  0.80921731  0.24539782  0.13967217  0.1321382\n",
            "   0.18603474  1.53206632]]\n",
            "\n",
            "New V: \n",
            " [[-1.41227385 -0.10021945  0.67363302 -0.47450307 -0.26607726  0.21561015\n",
            "   0.56622529  0.56259403]\n",
            " [-1.26427173 -0.17691236  0.41136804 -0.52697393  0.01551823  0.0895517\n",
            "   0.18482251  0.74636439]\n",
            " [-0.38293493  0.61392392 -0.67075979 -0.32143779  0.01673851 -0.13617661\n",
            "  -0.9646321  -0.45126398]\n",
            " [-1.11912456  0.15256096  0.3207672  -0.4059155  -0.25933705  0.14035667\n",
            "   0.18745802  0.18333973]]\n",
            "\n",
            "Attention: \n",
            " [[1.         0.         0.         0.        ]\n",
            " [0.80961278 0.19038722 0.         0.        ]\n",
            " [0.08040988 0.2758394  0.64375073 0.        ]\n",
            " [0.75726514 0.03067554 0.20772519 0.00433413]]\n"
          ]
        }
      ]
    },
    {
      "cell_type": "code",
      "source": [],
      "metadata": {
        "id": "P4-3YQNhngUB"
      },
      "execution_count": null,
      "outputs": []
    }
  ]
}